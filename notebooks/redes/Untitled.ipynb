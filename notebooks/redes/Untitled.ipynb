{
 "cells": [
  {
   "cell_type": "markdown",
   "id": "38f23be0-03ec-43bb-a06e-b89b65f7e650",
   "metadata": {},
   "source": [
    "# Computação distribuída"
   ]
  },
  {
   "cell_type": "markdown",
   "id": "a9c2d713-afb0-47ff-94b0-cec22f89aa19",
   "metadata": {},
   "source": [
    "A nossa topologia de rede pode ser baseada em dois orincipais modelos. Dentre elas temos as redes que são **Cliente servidor** e redes que são **Ponto à Ponto** ou (P2P). "
   ]
  },
  {
   "cell_type": "markdown",
   "id": "379db989-8b7f-4786-a293-5e32fe776d05",
   "metadata": {},
   "source": [
    "## Cliente servidor"
   ]
  },
  {
   "cell_type": "markdown",
   "id": "1d876eaa-f68d-44f5-82b6-f2c6f846ac6a",
   "metadata": {},
   "source": [
    "O modelo de redes cliente-servidor se baseia na ideia de termos máquinas que serão cliente e máquinas que serão servidores. Os servidores são serviços que oferecem algum produto. Seja uma aplicação WEB, seja hospedagem de arquivos, distribuição de IPs dentro de uma rede e até servidores de impressão. \n",
    "\n",
    "As máquinas cliente solicitam atrávés de requisições, os pacotes e serviçõs para os servidores. Os servidores por sua vez irão receber essas solicitações, processar e encaminhar de volta ao cliente.\n",
    "\n",
    "Máquinas que são servidoras também podem ser cliente. Sendo que uma máquina cliente também em algum momento pode servir. "
   ]
  },
  {
   "cell_type": "markdown",
   "id": "e2bd2014-a786-4ff8-9bae-9485d2d991ca",
   "metadata": {},
   "source": [
    "## Redes ponto à ponto"
   ]
  },
  {
   "cell_type": "code",
   "execution_count": null,
   "id": "2ffa8561-e01c-40f6-8532-70c56a6d61f7",
   "metadata": {},
   "outputs": [],
   "source": []
  }
 ],
 "metadata": {
  "kernelspec": {
   "display_name": "Python 3 (ipykernel)",
   "language": "python",
   "name": "python3"
  },
  "language_info": {
   "codemirror_mode": {
    "name": "ipython",
    "version": 3
   },
   "file_extension": ".py",
   "mimetype": "text/x-python",
   "name": "python",
   "nbconvert_exporter": "python",
   "pygments_lexer": "ipython3",
   "version": "3.11.6"
  }
 },
 "nbformat": 4,
 "nbformat_minor": 5
}
