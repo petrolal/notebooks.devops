{
 "cells": [
  {
   "cell_type": "markdown",
   "id": "2ade7858-153f-4eaa-844a-b3f4b03c6d30",
   "metadata": {},
   "source": [
    "# Redes de computadores básico"
   ]
  },
  {
   "cell_type": "markdown",
   "id": "e187dcac-7be6-4eb1-bca2-4b4e0d7936a8",
   "metadata": {},
   "source": [
    "Redes de computadores são quaisquer conexões entre dois ou mais computadores da mesma rede. As máquinas se conversam dentro dessa rede permitindo que recebam e enviem dados umas às outras."
   ]
  },
  {
   "cell_type": "markdown",
   "id": "0e1e8db6-9c83-40b3-9776-8a3be6df085f",
   "metadata": {},
   "source": [
    "## Um pouco de história"
   ]
  },
  {
   "cell_type": "markdown",
   "id": "6190e342-af2b-489b-b2e9-6758d3ecb925",
   "metadata": {},
   "source": [
    "Antigamente não conseguíamos conectar duas máquinas. Eram necessários outros métodos mais trabalhosos e menos eficazes para compartilhar os dados gerados por computadores. Após os acontecimentos da guerra fria. As redes de computadores se tornou uma possibilidade, permitindo facilitar o compartilhamento de dados, utilizando de protoolos, endereçamento e entre outras técnicas.\n",
    "\n",
    "### Mainframes e Terminais Burros\n",
    "\n",
    "Os antigos **mainframes** eram compostos de uma CPU (Central de processamento unitário) e diversos terminais que se conectavam à eles os famosos **terminais burros**. Nas CPUs aconteciam todo o processamento pesado, sendo assim, precisavam de **maior capacidade de processamento**, **mais memória e mais armazenamento**. Os terminais burros eram utilizados apenas para se conectarem ao mainframe, sendo assim, eles necessitavam de **bem menos recursos** e proviam apenas o **acesso à CPU**."
   ]
  },
  {
   "cell_type": "markdown",
   "id": "fe8bcb96-9309-4012-8520-0f374d84ec65",
   "metadata": {},
   "source": [
    "## Classificação de redes de computadores"
   ]
  },
  {
   "cell_type": "markdown",
   "id": "bff6427a-84de-4612-b77c-431a5eb12bea",
   "metadata": {},
   "source": [
    "Podemos classificar nossas redes em diversos tipos. Todas podem trabalhar juntas, sendo assim, chamadas de **Redes Híbridas**. Segue abaixo uma explicação da **Menor para a maior**\n",
    "\n",
    "### Rede PAN\n",
    "\n",
    "A rede PAN ou **Personal Area Network** é uma rede curta, composta por poucas máquinas e para uso rápido e transmitindo poucos dados. Possuem até 10 metros de amplitude e geralmente são sem fio. Temos como exemplo as máquinas de cartão de crédito que possuem a funcionlalidade de compras por aproximação com o protocolo **NFC**, Também podemos citar o **Bluetooth**, que conecta fones de ouvido e outros celulares por perto.\n",
    "\n",
    "### Rede Lan\n",
    "\n",
    "A rede LAN ou **Local Area Network** é uma rede maior que a PAN, geralmente redes residenciais ou Comerciais, composta de poucas máquinas dentro de uma unidade e obrigatóriamente devem ser cabeadas. \n",
    "\n",
    "### Rede WLAN\n",
    "\n",
    "A rede WLAN ou **Wireless Local Area Network** São exatamente iguais às redes **LAN** mas toda a conectividade é feita sem fio. O que permite maior libberdade para movimentação e localização dos dispositivos dentro da unidade. \n",
    "\n",
    "### Rede MAN\n",
    "\n",
    "A rede MAN ou **Metropolitan Area Network** é uma rede metropolitana, sendo assim temos uma área de abrangência maior como ruas ou cidades.\n",
    "\n",
    "### Rede WAN \n",
    "\n",
    "Sendo também conhecida como **Wide Area Network** é uma rede de maior extensão que abrange áreas enormes. Geralmente confundida com a internet. Mas não se enquadaria pois não é globalmente abrangida.\n",
    "\n",
    "### Rede GAN \n",
    "\n",
    "A **Global Area network** é uma rede global que abrange todo o mundo. Aqui é onde encontramos a nossa querida internet."
   ]
  },
  {
   "cell_type": "markdown",
   "id": "ac8bff53-dca4-45bd-91dd-e007337a5037",
   "metadata": {},
   "source": [
    "## Intranet e Extranet"
   ]
  },
  {
   "cell_type": "markdown",
   "id": "cab2c4ea-aea1-4b26-ba7f-9439eb345dbd",
   "metadata": {},
   "source": [
    "Para a nossa sopa de termos temos intranet e extranet."
   ]
  },
  {
   "cell_type": "markdown",
   "id": "60025361-d22d-47ee-856b-7d176a78971b",
   "metadata": {},
   "source": [
    "### Intranet\n",
    "\n",
    "É uma rede interna que só pode ser acessada dentro da rede ou local onde você se encontra. É muito comum encontrarmos intranets em empresas e escritórios. Nela podemos, com maior segurança, compartilhar repositórios e documentos públicos. Possui controle de sessão e de acesso, sendo possível configurar a rede para que premita o acesso apenas de perfis autorizados. É muito comum fazer uma analogia à intranet como sendo a nossa **internet pessoal** dentro de uma empresa.\n",
    "\n",
    "### Extranet\n",
    "\n",
    "É uma rede interna que fica acessível publicamente, só é possível o acesso através de alguns métodos como **VPN**, **endereços públicos** e **entre outros**. Só será permitido o acesso de pessoas autorizadas, possui controle de sessão e permissões po perfil."
   ]
  }
 ],
 "metadata": {
  "kernelspec": {
   "display_name": "Python 3 (ipykernel)",
   "language": "python",
   "name": "python3"
  },
  "language_info": {
   "codemirror_mode": {
    "name": "ipython",
    "version": 3
   },
   "file_extension": ".py",
   "mimetype": "text/x-python",
   "name": "python",
   "nbconvert_exporter": "python",
   "pygments_lexer": "ipython3",
   "version": "3.11.6"
  }
 },
 "nbformat": 4,
 "nbformat_minor": 5
}
