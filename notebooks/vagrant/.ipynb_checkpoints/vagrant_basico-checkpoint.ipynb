{
 "cells": [
  {
   "cell_type": "markdown",
   "id": "7a590c35-e742-4eba-8f3c-b9e58575b1c6",
   "metadata": {},
   "source": [
    "# O que é o vagrant?\n",
    "\n",
    "O vagrant é uma ferramenta desenvolvida pela Hashicorp de construção e gestão de máquinas virtuais à partir de código. Com o vagrant é possível subir máquinas virtuais à partir de poucas linhas de código. Permitindo pular toda a parte de instalação e configuração manual de uma máquina virtual."
   ]
  },
  {
   "cell_type": "markdown",
   "id": "2da79ac3-9ea9-438a-8a3e-fa733570a33c",
   "metadata": {},
   "source": [
    "## Hypervisor e Provedores \n",
    "\n",
    "Hypervisors são são softwares onde podemos realizar a instalação de máquinas virtuais. O vagrant usa desses hypervisors como provedores, podemos escolher o que melhor nos atende para utilizar juntamente com o vagrant. Dos mais comuns temos:\n",
    "\n",
    "* VirtualBox\n",
    "* VMWare\n",
    "* Libvirt com Quemu e KVM"
   ]
  },
  {
   "cell_type": "markdown",
   "id": "7d47053f-f2bd-46ad-b28c-c6301b2bcbbe",
   "metadata": {},
   "source": [
    "## Boxes\n",
    "\n",
    "O vagrant utiliza o conceito de boxes. Que são imagens das nossas máquinas virtuais. Podemos utilizar de diversas boxes da comunidade ou direto buscando na página da Hashicorp. Dentre elas as mais comuns são as distribuições linux. generic/ubuntu2204, arch/arch, centos/7 e dentre outros...\n",
    "\n",
    "À partir das nossas Boxes base, podemos gerar diversas outras boxes e automaticamente subir as nossas máquinas virtuais."
   ]
  },
  {
   "cell_type": "markdown",
   "id": "785657b4-aec3-4d6d-aebf-5d72ebbda71e",
   "metadata": {},
   "source": [
    "## Vagrantfile\n",
    "\n",
    "As nossas boxes vagrant são geradas à partir de um arquivo chamado **Vagrantfile**. Nesse arquivo iremos construir toda a configuração que queremos para as nossas máquinas virtuais. Também importante é o **provision.sh**, que é um scrpt shell que será executado assim que a máquina for criada.\n",
    "\n",
    "Exemplo de Vagrantfile:\n",
    "\n",
    "\n",
    "```ruby\n",
    "Vagrant.configure(\"2\") do |config|\n",
    "\n",
    "    # Define a box base\n",
    "    config.vm.box = \"generic/arch\"\n",
    "\n",
    "    # Define a rede da máquina em modo bridge\n",
    "    config.vm.network \"public_network\", ip: \"192.168.10.1\", :dev => \"wlan0\"\n",
    "    \n",
    "    # Redirecionamento de porta pelo foward port\n",
    "    config.vm.network \"forward_port\", host: 8080, guest: 8080\n",
    "\n",
    "    \n",
    "    # Define um diretório compartilhado em modo rsync\n",
    "    config.vm.synced_folder \"shared\", \"/home/usuario\", type: \"rsync\"\n",
    "\n",
    "    # Define as configurações de provider como quantidade de núcleos, memória total, etc..\n",
    "    config.vm.provider \"libvirt\" do |libvirt|\n",
    "        libvirt.memory = 1024\n",
    "        libvirt.cpus = 4\n",
    "        libvirt.driver = \"libvirt\"\n",
    "    end\n",
    "\n",
    "    # Define um script de provisionamento\n",
    "    config.vm.provision \"shell\", inline: <- SHELL \n",
    "        echo \"Provision iniciado\"\n",
    "        ...\n",
    "    SHELL\n",
    "    \n",
    "end\n",
    "```"
   ]
  }
 ],
 "metadata": {
  "kernelspec": {
   "display_name": "Python 3 (ipykernel)",
   "language": "python",
   "name": "python3"
  },
  "language_info": {
   "codemirror_mode": {
    "name": "ipython",
    "version": 3
   },
   "file_extension": ".py",
   "mimetype": "text/x-python",
   "name": "python",
   "nbconvert_exporter": "python",
   "pygments_lexer": "ipython3",
   "version": "3.11.6"
  }
 },
 "nbformat": 4,
 "nbformat_minor": 5
}
