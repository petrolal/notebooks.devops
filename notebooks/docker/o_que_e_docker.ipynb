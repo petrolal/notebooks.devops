{
 "cells": [
  {
   "cell_type": "markdown",
   "id": "a054c25a-2037-4e72-834c-e8e2401d62f9",
   "metadata": {},
   "source": [
    "# O Que é o docker?\n",
    "\n",
    "O docker é uma solução de virtualização, utilizada para conteinerizar aplicações, sistemas operacionais e entre outros. O Docker é uma solução poderosa, mas que provê uma linguagem simples, com baixa curva de aprendizado e ecossistema robusto."
   ]
  },
  {
   "cell_type": "markdown",
   "id": "30d2de98-a826-4ae1-b8cf-5ca95e3bca8f",
   "metadata": {},
   "source": [
    "## Docker vs Máquinas virtuais"
   ]
  },
  {
   "cell_type": "markdown",
   "id": "a854e604-a92d-497f-9cb3-f283381203fa",
   "metadata": {},
   "source": [
    "O docker se difere de máquinas virtuais tradicionais devido à alguns fatores:\n",
    "\n",
    "* Arquitetura\n",
    "* Escalabilidade\n",
    "\n",
    "### Máquinas Virtuais\n",
    "\n",
    "As máquinas virtuais são gerenciadas por ferramentas chamadas de **Hypervisor**. Elas provêm clusters que gerencial os recursos de forma fixa, ou seja, A mémória, núcleos de CPU, Storage interno, etc.. Sempre serão os mesmos. À não ser que sejam reconfigurados dentro do hypervisor. As máquina virtuais também possuem mais camadas de abstração: **Máquina Host -> Hypervisor -> Sistema operacional -> Aplicação.**\n",
    "\n",
    "### Containers Docker\n",
    "\n",
    "Já os containers docker são escaláveis, os recursos são geridos pelo próprio Docker, geralmente, não precisamos nos preocupar com alocação destes recursos.\n",
    "\n",
    "O Docker também possui menos camadas de abstração: **Máquina host -> Máquina virtual Linux -> Sistema Operacional/Aplicação.** Sendo assim, todo container Docker será gerenciado por uma máquina virtual Linux e com poucos comandos e maior velocidade de contrução."
   ]
  },
  {
   "cell_type": "markdown",
   "id": "70c5652c-4fd4-415a-aff9-5b23fc648916",
   "metadata": {},
   "source": [
    "## O Dockerfile"
   ]
  },
  {
   "cell_type": "markdown",
   "id": "80b1acf9-141c-4f0f-a9d4-41d8dd94a30a",
   "metadata": {},
   "source": [
    "O Dockerfile é o arquivo de configuração principal de uma imagem Docker. Ele é composto pela seguinte sintaxe básica:"
   ]
  },
  {
   "cell_type": "markdown",
   "id": "f9fb1485-e059-4ea8-a84e-11a65cd9ed49",
   "metadata": {},
   "source": [
    "Tendo o aplicativo à seguir:\n",
    "\n",
    "app.js:\n",
    "\n",
    "```javascript\n",
    "console.log(\"Hi docker\");\n",
    "```"
   ]
  },
  {
   "cell_type": "markdown",
   "id": "e0809c39-bd08-4d75-a970-8a6ddb981c0b",
   "metadata": {},
   "source": [
    "Dockerfile:"
   ]
  },
  {
   "cell_type": "code",
   "execution_count": 10,
   "id": "b0848726-15cd-4b03-8bf0-af1b66ac56d7",
   "metadata": {},
   "outputs": [
    {
     "name": "stdout",
     "output_type": "stream",
     "text": [
      "Overwriting Dockerfile\n"
     ]
    }
   ],
   "source": [
    "%%writefile Dockerfile\n",
    "FROM node:20-alpine\n",
    "\n",
    "WORKDIR /app\n",
    "\n",
    "COPY . /app\n",
    "\n",
    "CMD apt-get update -y\n",
    "\n",
    "RUN node -v\n",
    "RUN npm -b\n",
    "\n",
    "ENTRYPOINT [\"nodejs\", \"app.js\"]"
   ]
  },
  {
   "cell_type": "markdown",
   "id": "227f0b52-5f1c-41f3-a850-80aff32db8c5",
   "metadata": {},
   "source": [
    "Exemplo de execução do container "
   ]
  },
  {
   "cell_type": "code",
   "execution_count": 6,
   "id": "3bbfab77-78c9-4610-a791-bc1b9e6ed460",
   "metadata": {},
   "outputs": [
    {
     "name": "stdout",
     "output_type": "stream",
     "text": [
      "/bin/bash: line 1: docker: command not found\n"
     ]
    }
   ],
   "source": [
    "!docker build -t node20_angular-exemplo"
   ]
  },
  {
   "cell_type": "markdown",
   "id": "48a8f1c7-ba6b-4466-99da-3761128cf844",
   "metadata": {},
   "source": [
    "#### Onde:\n",
    "\n",
    "* **FROM** - linha 2: Define a imagem base usada no container.\n",
    "* **WORKDIR** - linha 4: Seta o diretório padrão de trabalho do container. Sendo assim todos os nossos comandos serão executados em **/app**.\n",
    "* **COPY** - linha 6: Copia todo o conteúdo na nossa **raíz** para o diretório **/app** do container.\n",
    "* **CMD** - linhas 8: Executa algum comando dentro do container. No nosso caso atualiza o Sistema operacional presente no container.\n",
    "* **RUN** - linhas 10 e 11: Outro parâmetro para executar comandos dentro do container.\n",
    "* **ENTRYPOINT** - linha 13: Executa o nosso script nodeJS, antes copiado, dentro do container.\n",
    "\n",
    "Containers são práticos, rápidos de subir e desenvolver. Eles podem ser executados dentro do nosso próprio projeto, sendo assim, são excelentes para facilitar a subida de ambientes de desenvolvimento e produção."
   ]
  }
 ],
 "metadata": {
  "kernelspec": {
   "display_name": "Python 3 (ipykernel)",
   "language": "python",
   "name": "python3"
  },
  "language_info": {
   "codemirror_mode": {
    "name": "ipython",
    "version": 3
   },
   "file_extension": ".py",
   "mimetype": "text/x-python",
   "name": "python",
   "nbconvert_exporter": "python",
   "pygments_lexer": "ipython3",
   "version": "3.11.6"
  }
 },
 "nbformat": 4,
 "nbformat_minor": 5
}
