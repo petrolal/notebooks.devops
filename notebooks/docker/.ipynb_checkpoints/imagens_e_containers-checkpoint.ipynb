{
 "cells": [
  {
   "cell_type": "markdown",
   "id": "6e1d8cb1-5b29-4928-aa4e-855b1d12e666",
   "metadata": {},
   "source": [
    "# Imagens e Containers"
   ]
  },
  {
   "cell_type": "markdown",
   "id": "e0e6cfca-31ff-4ab7-bd67-65b455b07354",
   "metadata": {},
   "source": [
    "As imagens e containers são componentes essenciais de uma aplicação rodando em docker."
   ]
  },
  {
   "cell_type": "markdown",
   "id": "8de7880e-0a07-41ee-8bcd-5e9ffed079cd",
   "metadata": {},
   "source": [
    "## Imagem"
   ]
  },
  {
   "cell_type": "markdown",
   "id": "b404d529-7520-48f0-a4db-7658534ec835",
   "metadata": {},
   "source": [
    "Imagine que uma imagem é um conjunto composto por:\n",
    "\n",
    "* Um **Cut Down OS**;\n",
    "* As **Bibliotecas** que a aplicação vai necessitar;\n",
    "* Os **Arquivos do aplicativo**;\n",
    "* E as **Variáveis de ambiente**;\n",
    "\n",
    "\n",
    "> ### Cut Down OS\n",
    "> \n",
    "> É uma versão reduzida de um sistema operacional. O docker utiliza das versões Cut Down por serem mais leves e portáteis que um SO inteiro.\n",
    "\n",
    "\n",
    "Dentro da imagem nós tempos tudo o que é necessário para rodar uma aplicação, ambiente ou sistema, por isso. Se tornam portáteis, sendo possível realizar a sua migração de forma leve, simples e tranquila."
   ]
  },
  {
   "cell_type": "markdown",
   "id": "c55a82f9-23c0-43fe-b79d-625adf8ec291",
   "metadata": {},
   "source": [
    "## Container"
   ]
  },
  {
   "cell_type": "markdown",
   "id": "e57dfa2b-140f-435d-ac7b-3af2c62c3c13",
   "metadata": {},
   "source": [
    "O container é um processo. Que podemos utilizar para gerenciar as imagens que geramos. Imagine que o container é uam receita de bolo que faz com que a minha imagem possa ser **iniciada**, **excluída** e **reiniciada**. Seguindo o fluxo abaixo temos:\n",
    "\n",
    "* App\n",
    "* Imagem\n",
    "* Container\n",
    "\n",
    "Desenvolvemos o App -> Criamos a imagem e os arquivos de configuração -> Executamos o conteiner que vai gerir a imagem."
   ]
  },
  {
   "cell_type": "markdown",
   "id": "20864ed9-3bf5-44e9-a7a2-d695fb60dc5b",
   "metadata": {},
   "source": [
    "# Dockerfile"
   ]
  },
  {
   "cell_type": "markdown",
   "id": "b230741b-08b3-40f0-84d6-0f18bf67ee95",
   "metadata": {},
   "source": [
    "O Dockerfile **é o arquivo de configuração principal do nosso docker**. Ele possui uma série de comandos que vão nos permitir criar as nossas imagens docker. Sendo abaixo os principais comandos do **Dockerfile**:\n",
    "\n",
    "* **RUN**: É o nosso ponto de partida, ou seja, ele define a imagem base da nossa imagem docker. Podemos escolher diversas imagens do dockerub e ele deve seguir a seguinte sintaxe IMAGEM_BASE:VERSÃO como -> archlinux/archlinux:latest, nodejs:alpine, ubuntu:latest, etc...\n",
    "* **WORKDIR**: É onde vamos definir o nosso diretório de trabalho principal. Podemos criar novos diretórios como **/app** ou podemos utilizar de diretórios existentes no ecossistema linux, como **/home/usuario**. Geralmente se encontra no início do **Dockerfile**.\n",
    "* **COPY** e **ADD**: São dois importantísssimos comandos que copiam e adicionam, respectivamente, arquivos da nossa máquina para dentro do container.\n",
    "* **RUN**: Comando que serve para executar comandos ou scripts. Ele serve para que possamos, executar estes comandos automáticamente, na hora da criação da imagem.\n",
    "* **EXPOSE**: Serve para expor as portas da aplicação para que possam ser acessadas na máquina host.\n",
    "* **CMD**: Comando que serve para executar comandos do terminal dentro do container.\n",
    "* **ENTRYPOINT**: Assim como **CMD** serve para executar comandos do terminal, dentro do container."
   ]
  },
  {
   "cell_type": "code",
   "execution_count": null,
   "id": "8666e8eb-12ad-4278-9884-814ce61032d4",
   "metadata": {},
   "outputs": [],
   "source": []
  }
 ],
 "metadata": {
  "kernelspec": {
   "display_name": "Python 3 (ipykernel)",
   "language": "python",
   "name": "python3"
  },
  "language_info": {
   "codemirror_mode": {
    "name": "ipython",
    "version": 3
   },
   "file_extension": ".py",
   "mimetype": "text/x-python",
   "name": "python",
   "nbconvert_exporter": "python",
   "pygments_lexer": "ipython3",
   "version": "3.11.6"
  }
 },
 "nbformat": 4,
 "nbformat_minor": 5
}
