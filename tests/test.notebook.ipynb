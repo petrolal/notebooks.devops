# %%
# Teste simples: soma
a = 10
b = 32
a + b

# %%
# Teste com biblioteca padrão
import math
math.sqrt(144)

# %%
# Teste com matplotlib (output gráfico)
import matplotlib.pyplot as plt

x = [1, 2, 3, 4, 5]
y = [n**2 for n in x]

plt.plot(x, y, marker="o")
plt.title("Quadrados de 1 a 5")
plt.xlabel("x")
plt.ylabel("y")
plt.show()

# %%
# Teste com pandas
import pandas as pd

data = {
    "Nome": ["Ana", "Bruno", "Carlos", "Diana"],
    "Idade": [23, 31, 29, 35],
    "Cidade": ["SP", "RJ", "BH", "POA"]
}

df = pd.DataFrame(data)
df

